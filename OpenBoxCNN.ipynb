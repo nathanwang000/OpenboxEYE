{
 "cells": [
  {
   "cell_type": "code",
   "execution_count": 2,
   "metadata": {},
   "outputs": [],
   "source": [
    "from torch import nn\n",
    "import torch\n",
    "from torch.autograd import Variable\n",
    "import numpy as np\n",
    "import matplotlib.pyplot as plt\n",
    "import seaborn as sns\n",
    "import time\n",
    "from torchvision import datasets, transforms, utils\n",
    "from src.utility import convert_image_np\n",
    "import tqdm\n",
    "from collections import defaultdict\n",
    "from torch.utils.data.sampler import SubsetRandomSampler\n",
    "from matplotlib import gridspec\n",
    "from lib.data import Mimic2\n",
    "from lib.utility import show_tensor_image, show_acc, to_var\n",
    "from lib.model import MLP\n",
    "from lib.openbox import open_box, count_config, find_x"
   ]
  },
  {
   "cell_type": "code",
   "execution_count": 3,
   "metadata": {},
   "outputs": [],
   "source": [
    "def train(net, trainloader, criterion, optimizer, print_every=None, epochs=1000, max_time=10):\n",
    "    net.train()\n",
    "    start = time.time()\n",
    "    \n",
    "    # max_time given in seconds\n",
    "    for epoch in range(epochs):  # loop over the dataset multiple times\n",
    "\n",
    "        running_loss = 0.0\n",
    "        for i, (x, y) in enumerate(trainloader):\n",
    "            \n",
    "            end = time.time()\n",
    "            if end - start >= max_time:\n",
    "                print('Finished Training in %ds' % (end-start))                \n",
    "                return\n",
    "            \n",
    "            # get the inputs\n",
    "            x, y = to_var(x), to_var(y)\n",
    "\n",
    "            # zero the parameter gradients\n",
    "            optimizer.zero_grad()\n",
    "\n",
    "            # forward + backward + optimize\n",
    "            outputs = net(x)\n",
    "            loss = criterion(outputs, y)\n",
    "            loss.backward()\n",
    "            optimizer.step()\n",
    "\n",
    "            # print statistics\n",
    "            running_loss += loss.data.item()\n",
    "            if print_every is not None and i % print_every == (print_every-1): \n",
    "                print('[%d, %5d] loss: %.10f' %\n",
    "                      (epoch + 1, i + 1, running_loss / print_every))\n",
    "                running_loss = 0.0\n",
    "\n",
    "    print('Finished Training in %ds' % (end-start))"
   ]
  },
  {
   "cell_type": "markdown",
   "metadata": {},
   "source": [
    "# OpenboxCNN"
   ]
  },
  {
   "cell_type": "code",
   "execution_count": null,
   "metadata": {},
   "outputs": [],
   "source": [
    "class CNN(nn.Module):\n",
    "\n",
    "    def __init__(self, neuron_sizes): # using relu activation\n",
    "        super(MLP, self).__init__()\n",
    "        self.neuron_sizes = neuron_sizes\n",
    "        \n",
    "        layers = []\n",
    "        for s0, s1 in zip(neuron_sizes[:-1], neuron_sizes[1:]):\n",
    "            layers.extend([\n",
    "                nn.Linear(s0, s1),\n",
    "                nn.LeakyReLU(inplace=True)\n",
    "            ])\n",
    "        \n",
    "        self.classifier = nn.Sequential(*layers[:-1])\n",
    "        \n",
    "    def forward(self, x):\n",
    "        x = x.view(-1, self.neuron_sizes[0])\n",
    "        return self.classifier(x)\n"
   ]
  },
  {
   "cell_type": "code",
   "execution_count": 5,
   "metadata": {},
   "outputs": [
    {
     "name": "stdout",
     "output_type": "stream",
     "text": [
      "checking if it is exact\n",
      "min: 0.000000, mean: 0.000000, max: 0.000000\n"
     ]
    },
    {
     "data": {
      "image/png": "[encoded data removed]",
      "text/plain": [
       "<Figure size 432x288 with 1 Axes>"
      ]
     },
     "metadata": {},
     "output_type": "display_data"
    }
   ],
   "source": [
    "def abs_diff(a, b):\n",
    "    return torch.abs(a - b).sum().data.numpy()\n",
    "\n",
    "def diff_check(net, num_runs=100):\n",
    "    diff = []\n",
    "    d = net.classifier[0].in_features\n",
    "    for i in range(num_runs):\n",
    "        x = to_var(torch.randn(d))\n",
    "        W, b, C = open_box(net, x)\n",
    "        diff.append(abs_diff(torch.mv(W, x) + b, net(x)))\n",
    "    return diff\n",
    "\n",
    "diff = diff_check(MLP([100,50,30,20,10]))\n",
    "sns.distplot(diff, kde=False)\n",
    "print('checking if it is exact')\n",
    "print('min: %f, mean: %f, max: %f' % (np.min(diff), np.mean(diff), np.max(diff)))"
   ]
  },
  {
   "cell_type": "code",
   "execution_count": null,
   "metadata": {},
   "outputs": [],
   "source": []
  }
 ],
 "metadata": {
  "kernelspec": {
   "display_name": "Python 3",
   "language": "python",
   "name": "python3"
  },
  "language_info": {
   "codemirror_mode": {
    "name": "ipython",
    "version": 3
   },
   "file_extension": ".py",
   "mimetype": "text/x-python",
   "name": "python",
   "nbconvert_exporter": "python",
   "pygments_lexer": "ipython3",
   "version": "3.6.5"
  }
 },
 "nbformat": 4,
 "nbformat_minor": 2
}
