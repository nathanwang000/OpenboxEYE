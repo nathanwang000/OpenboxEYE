{
 "cells": [
  {
   "cell_type": "markdown",
   "metadata": {},
   "source": [
    "Purpose: Show why wlasso would fail; Make logistic regression fail"
   ]
  },
  {
   "cell_type": "code",
   "execution_count": 96,
   "metadata": {
    "collapsed": true
   },
   "outputs": [],
   "source": [
    "from torch import nn\n",
    "import torch\n",
    "from torch.autograd import Variable\n",
    "import numpy as np\n",
    "import matplotlib.pyplot as plt\n",
    "import seaborn as sns\n",
    "import time\n",
    "from torchvision import datasets, transforms, utils\n",
    "from src.utility import convert_image_np\n",
    "import tqdm\n",
    "from collections import defaultdict\n",
    "from torch.utils.data.sampler import SubsetRandomSampler\n",
    "from matplotlib import gridspec\n",
    "from lib.data import Mimic2\n",
    "from lib.utility import show_tensor_image, show_acc, to_var\n",
    "from lib.model import MLP\n",
    "from lib.openbox import open_box, count_config, find_x\n",
    "from torch.utils.data import Dataset, DataLoader, TensorDataset\n",
    "from lib.train import prepareData\n",
    "from lib.utility import show_tensor_image, show_acc, to_var"
   ]
  },
  {
   "cell_type": "code",
   "execution_count": 99,
   "metadata": {
    "collapsed": true
   },
   "outputs": [],
   "source": [
    "def train(net, trainloader, criterion, optimizer, print_every=None, epochs=1000, max_time=10):\n",
    "    net.train()\n",
    "    start = time.time()\n",
    "    \n",
    "    # max_time given in seconds\n",
    "    for epoch in range(epochs):  # loop over the dataset multiple times\n",
    "\n",
    "        running_loss = 0.0\n",
    "        for i, (x, y) in enumerate(trainloader):\n",
    "            \n",
    "            end = time.time()\n",
    "            if end - start >= max_time:\n",
    "                print('Finished Training in %ds' % (end-start))                \n",
    "                return\n",
    "            \n",
    "            # get the inputs\n",
    "            x, y = to_var(x), to_var(y)\n",
    "\n",
    "            # zero the parameter gradients\n",
    "            optimizer.zero_grad()\n",
    "\n",
    "            # forward + backward + optimize\n",
    "            outputs = net(x)\n",
    "            loss = criterion(outputs, y)\n",
    "            loss.backward()\n",
    "            optimizer.step()\n",
    "\n",
    "            # print statistics\n",
    "            running_loss += loss.data.item()\n",
    "            if print_every is not None and i % print_every == (print_every-1): \n",
    "                print('[%d, %5d] loss: %.10f' %\n",
    "                      (epoch + 1, i + 1, running_loss / print_every))\n",
    "                running_loss = 0.0\n",
    "\n",
    "    print('Finished Training in %ds' % (end-start))"
   ]
  },
  {
   "cell_type": "code",
   "execution_count": 123,
   "metadata": {
    "collapsed": false
   },
   "outputs": [
    {
     "data": {
      "image/png": "[encoded data removed]",
      "text/plain": [
       "<matplotlib.figure.Figure at 0x7f59840f5f60>"
      ]
     },
     "metadata": {},
     "output_type": "display_data"
    }
   ],
   "source": [
    "from lib.synthetic_data_generation import generate_risk, genCovData\n",
    "from scipy.linalg import block_diag\n",
    "\n",
    "def sweepR(t=1,mu=0,noise=0.05):\n",
    "    '''t: theta coefficient'''\n",
    "    nrgroups = 11\n",
    "    nirgroups = 0\n",
    "    pergroup = 10\n",
    "    n = 5000\n",
    "    # setup\n",
    "    risk = generate_risk(nrgroups, nirgroups, pergroup, \"binary_r\")\n",
    "    # gen data\n",
    "    base = np.diag(np.ones(pergroup))       \n",
    "    base[base==0] = 0.99\n",
    "    C = block_diag(*([base]*(nrgroups+nirgroups)))\n",
    "    theta = np.zeros((nrgroups + nirgroups) * pergroup)\n",
    "    theta[:nrgroups*pergroup] = t\n",
    "    datagen = lambda: genCovData(C=C, theta=theta,\n",
    "                                 n=n, noise=noise, mu=mu)    \n",
    "    return datagen, risk\n",
    "\n",
    "d, risk = sweepR(t=-1, mu=10)\n",
    "X, y = d()\n",
    "plt.matshow(risk.reshape(-1, 10))\n",
    "plt.show()"
   ]
  },
  {
   "cell_type": "code",
   "execution_count": 124,
   "metadata": {
    "collapsed": false
   },
   "outputs": [
    {
     "data": {
      "image/png": "[encoded data removed]",
      "text/plain": [
       "<matplotlib.figure.Figure at 0x7f598407b6a0>"
      ]
     },
     "metadata": {},
     "output_type": "display_data"
    }
   ],
   "source": [
    "sns.heatmap(np.corrcoef(X.T))\n",
    "plt.axis('off')\n",
    "plt.show()"
   ]
  },
  {
   "cell_type": "code",
   "execution_count": 125,
   "metadata": {
    "collapsed": true
   },
   "outputs": [],
   "source": [
    "d1, risk = sweepR(t=-1, mu=0)\n",
    "d2, risk = sweepR(t=1, mu=10)\n",
    "\n",
    "X1, y1 = d1()\n",
    "X2, y2 = d2()\n",
    "\n",
    "Xtr = np.vstack([X1, X2])\n",
    "ytr = np.vstack([y1, y2])\n",
    "\n",
    "X1, y1 = d1()\n",
    "X2, y2 = d2()\n",
    "\n",
    "Xte = np.vstack([X1, X2])\n",
    "yte = np.vstack([y1, y2])"
   ]
  },
  {
   "cell_type": "code",
   "execution_count": 126,
   "metadata": {
    "collapsed": false
   },
   "outputs": [
    {
     "data": {
      "image/png": "[encoded data removed]",
      "text/plain": [
       "<matplotlib.figure.Figure at 0x7f59842b2438>"
      ]
     },
     "metadata": {},
     "output_type": "display_data"
    }
   ],
   "source": [
    "# todo: break correlation (X1 and X2 have different correlation structure)\n",
    "sns.heatmap(np.corrcoef(Xtr.T))\n",
    "plt.axis('off')\n",
    "plt.show()"
   ]
  },
  {
   "cell_type": "code",
   "execution_count": 131,
   "metadata": {
    "collapsed": false,
    "scrolled": true
   },
   "outputs": [
    {
     "name": "stdout",
     "output_type": "stream",
     "text": [
      "[1,    30] loss: 0.7392165105\n",
      "[1,    60] loss: 0.6992872596\n",
      "[1,    90] loss: 0.6744634847\n",
      "[1,   120] loss: 0.6667796115\n",
      "[1,   150] loss: 0.6362423023\n",
      "[2,    30] loss: 0.6320373277\n",
      "[2,    60] loss: 0.6177771091\n",
      "[2,    90] loss: 0.5779317518\n",
      "[2,   120] loss: 0.5952044110\n",
      "[2,   150] loss: 0.5726867169\n",
      "[3,    30] loss: 0.5836629808\n",
      "[3,    60] loss: 0.5616965850\n",
      "[3,    90] loss: 0.5724281391\n",
      "[3,   120] loss: 0.5566571107\n",
      "[3,   150] loss: 0.5555843433\n",
      "[4,    30] loss: 0.5449420581\n",
      "[4,    60] loss: 0.5282669723\n",
      "[4,    90] loss: 0.5703434368\n",
      "[4,   120] loss: 0.5517750283\n",
      "[4,   150] loss: 0.5458979915\n",
      "[5,    30] loss: 0.5315464675\n",
      "[5,    60] loss: 0.5494694193\n",
      "[5,    90] loss: 0.5306569427\n",
      "[5,   120] loss: 0.5319370925\n",
      "[5,   150] loss: 0.5186364690\n",
      "[6,    30] loss: 0.5377309342\n",
      "[6,    60] loss: 0.5433174958\n",
      "[6,    90] loss: 0.4970604459\n",
      "[6,   120] loss: 0.5368837963\n",
      "[6,   150] loss: 0.5015791237\n",
      "[7,    30] loss: 0.5286358168\n",
      "[7,    60] loss: 0.5019669056\n",
      "[7,    90] loss: 0.5099432230\n",
      "[7,   120] loss: 0.4948053728\n",
      "[7,   150] loss: 0.5347352604\n",
      "[8,    30] loss: 0.5355472863\n",
      "[8,    60] loss: 0.5066099356\n",
      "[8,    90] loss: 0.5161679476\n",
      "[8,   120] loss: 0.5085055163\n",
      "[8,   150] loss: 0.4940586706\n",
      "[9,    30] loss: 0.5120131820\n",
      "[9,    60] loss: 0.5090340873\n",
      "[9,    90] loss: 0.4882713546\n",
      "[9,   120] loss: 0.5241092732\n",
      "[9,   150] loss: 0.5235505501\n",
      "[10,    30] loss: 0.4999160866\n",
      "[10,    60] loss: 0.5428049634\n",
      "[10,    90] loss: 0.4997467528\n",
      "[10,   120] loss: 0.4856092056\n",
      "[10,   150] loss: 0.5147707075\n",
      "Finished Training in 1s\n"
     ]
    }
   ],
   "source": [
    "net = MLP(neuron_sizes=[110, 8, 2])\n",
    "\n",
    "train_data = TensorDataset(*map(lambda x: x.data, prepareData(Xtr, ytr.reshape(-1))))\n",
    "train_loader = DataLoader(train_data, batch_size=64, shuffle=True)   \n",
    "\n",
    "test_data = TensorDataset(*map(lambda x: x.data, prepareData(Xte, yte.reshape(-1))))\n",
    "test_loader = DataLoader(test_data, batch_size=64, shuffle=True)   \n",
    "\n",
    "criterion = nn.CrossEntropyLoss()\n",
    "optimizer = torch.optim.Adam(net.parameters(), weight_decay=1e-4)\n",
    "\n",
    "train(net, train_loader, criterion, optimizer, print_every=30, epochs=10, max_time=50)"
   ]
  },
  {
   "cell_type": "code",
   "execution_count": 132,
   "metadata": {
    "collapsed": false
   },
   "outputs": [
    {
     "name": "stdout",
     "output_type": "stream",
     "text": [
      "Accuracy of the network on 10000  images: 73 %\n"
     ]
    }
   ],
   "source": [
    "show_acc(net, test_loader)"
   ]
  },
  {
   "cell_type": "code",
   "execution_count": null,
   "metadata": {
    "collapsed": true
   },
   "outputs": [],
   "source": []
  }
 ],
 "metadata": {
  "kernelspec": {
   "display_name": "Python 3",
   "language": "python",
   "name": "python3"
  },
  "language_info": {
   "codemirror_mode": {
    "name": "ipython",
    "version": 3
   },
   "file_extension": ".py",
   "mimetype": "text/x-python",
   "name": "python",
   "nbconvert_exporter": "python",
   "pygments_lexer": "ipython3",
   "version": "3.5.2"
  }
 },
 "nbformat": 4,
 "nbformat_minor": 2
}
